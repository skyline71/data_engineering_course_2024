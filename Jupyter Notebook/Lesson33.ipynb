{
 "cells": [
  {
   "cell_type": "code",
   "execution_count": 3,
   "id": "6b9d6bec-b83e-40a6-bf37-7cb9dc04881b",
   "metadata": {},
   "outputs": [],
   "source": [
    "import pandas as pd\n",
    "import psycopg2 as pg\n",
    "import pandas.io.sql as psql"
   ]
  },
  {
   "cell_type": "code",
   "execution_count": 5,
   "id": "8fdf6da4-43cb-4065-a8d6-0526fd0ce131",
   "metadata": {},
   "outputs": [
    {
     "name": "stderr",
     "output_type": "stream",
     "text": [
      "/tmp/ipykernel_137148/1957436199.py:2: UserWarning: pandas only supports SQLAlchemy connectable (engine/connection) or database string URI or sqlite3 DBAPI2 connection. Other DBAPI2 objects are not tested. Please consider using SQLAlchemy.\n",
      "  df_workers = psql.read_sql('SELECT * FROM d_worker', connection)\n"
     ]
    }
   ],
   "source": [
    "connection = pg.connect(\"host=194.87.80.157 dbname=de_lessons_db user=test_user password=155423\")\n",
    "df_workers = psql.read_sql('SELECT * FROM d_worker', connection)\n",
    "df_section = pd.read_csv('/tmp/d_section.csv') "
   ]
  },
  {
   "cell_type": "code",
   "execution_count": 6,
   "id": "2d569553-4d0d-45b0-b021-613f36dc7104",
   "metadata": {},
   "outputs": [
    {
     "name": "stdout",
     "output_type": "stream",
     "text": [
      "   id full_name  worker_section\n",
      "0   1     Denis               1\n",
      "1   2    Alexey               2\n",
      "2   3     Pavel               3\n",
      "3   4      Mark               3\n",
      "4   5     Isaak               4\n",
      "5   6    Steven               5\n"
     ]
    }
   ],
   "source": [
    "print(df_workers)"
   ]
  },
  {
   "cell_type": "code",
   "execution_count": 7,
   "id": "2877dc39-3546-4692-9c71-538a0b551c87",
   "metadata": {},
   "outputs": [
    {
     "name": "stdout",
     "output_type": "stream",
     "text": [
      "   id section_info\n",
      "0   1  Programming\n",
      "1   2      Testing\n",
      "2   3    Marketing\n"
     ]
    }
   ],
   "source": [
    "print(df_section)"
   ]
  },
  {
   "cell_type": "code",
   "execution_count": 8,
   "id": "42c57c88-49ff-4a29-bcb3-9d0f2412de65",
   "metadata": {},
   "outputs": [
    {
     "name": "stdout",
     "output_type": "stream",
     "text": [
      "   id_x full_name  worker_section  id_y section_info\n",
      "0     1     Denis               1     1  Programming\n",
      "1     2    Alexey               2     2      Testing\n",
      "2     3     Pavel               3     3    Marketing\n",
      "3     4      Mark               3     3    Marketing\n"
     ]
    }
   ],
   "source": [
    "df_join_1 = df_workers.merge(df_section, left_on='worker_section', right_on='id', how='inner')\n",
    "print(df_join_1)"
   ]
  },
  {
   "cell_type": "code",
   "execution_count": 9,
   "id": "bfc2cbab-a6d0-49c5-a640-68184bfb1a97",
   "metadata": {},
   "outputs": [
    {
     "name": "stdout",
     "output_type": "stream",
     "text": [
      "   id_x full_name  worker_section  id_y section_info\n",
      "0     1     Denis               1   1.0  Programming\n",
      "1     2    Alexey               2   2.0      Testing\n",
      "2     3     Pavel               3   3.0    Marketing\n",
      "3     4      Mark               3   3.0    Marketing\n",
      "4     5     Isaak               4   NaN          NaN\n",
      "5     6    Steven               5   NaN          NaN\n"
     ]
    }
   ],
   "source": [
    "df_join_2 = df_workers.merge(df_section, left_on='worker_section', right_on='id', how='left')\n",
    "print(df_join_2)"
   ]
  },
  {
   "cell_type": "code",
   "execution_count": 10,
   "id": "7536b608-2ffd-4655-9698-97b78ba0b949",
   "metadata": {},
   "outputs": [],
   "source": [
    "df_join_2.to_csv('/tmp/output.csv')"
   ]
  },
  {
   "cell_type": "code",
   "execution_count": null,
   "id": "b8e7f16c-3b55-47ce-a024-36c4f6af11d9",
   "metadata": {},
   "outputs": [],
   "source": []
  }
 ],
 "metadata": {
  "kernelspec": {
   "display_name": "Python 3 (ipykernel)",
   "language": "python",
   "name": "python3"
  },
  "language_info": {
   "codemirror_mode": {
    "name": "ipython",
    "version": 3
   },
   "file_extension": ".py",
   "mimetype": "text/x-python",
   "name": "python",
   "nbconvert_exporter": "python",
   "pygments_lexer": "ipython3",
   "version": "3.10.12"
  }
 },
 "nbformat": 4,
 "nbformat_minor": 5
}
